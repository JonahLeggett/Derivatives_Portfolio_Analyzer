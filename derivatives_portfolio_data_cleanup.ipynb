{
 "cells": [
  {
   "cell_type": "code",
   "execution_count": 1,
   "id": "bdcc26b7",
   "metadata": {},
   "outputs": [],
   "source": [
    "#Importing required libraries for data cleanup on CSV files, and to create DataFrames\n",
    "\n",
    "import pandas as pd\n",
    "from pathlib import Path\n",
    "import numpy as np\n",
    "import csv\n",
    "from datetime import datetime\n",
    "#pd.set_option('display.max_rows', 1000)"
   ]
  },
  {
   "cell_type": "code",
   "execution_count": 2,
   "id": "3e413f6d",
   "metadata": {},
   "outputs": [],
   "source": [
    "#Creating Dataframes from the CSV files\n",
    "\n",
    "inlaw_df = pd.read_csv(Path(\"Resources/inlaw_portfolio_032021_to_050821.csv\"))\n",
    "johnson_df = pd.read_csv(Path(\"Resources/johnson_portfolio_081821_to_051021.csv\")) \n",
    "johnson_ira_df = pd.read_csv(Path(\"Resources/johnson_trad_ira_portfolio_021721_to_051021.csv\"))"
   ]
  },
  {
   "cell_type": "code",
   "execution_count": 3,
   "id": "25179020-c660-4d84-b0f1-2c41fd0ab720",
   "metadata": {},
   "outputs": [],
   "source": [
    "#Formatting strings in different columns to be able to convert their dtypes\n",
    "\n",
    "inlaw_df['Value'] = pd.to_numeric(inlaw_df['Value'].str.replace(\",\", \"\"))\n",
    "inlaw_df['Average Price'] = pd.to_numeric(inlaw_df['Average Price'].str.replace(\",\", \"\"))\n",
    "inlaw_df['Commissions'] = pd.to_numeric(inlaw_df['Commissions'].str.replace(\"--\", \"\"))\n",
    "inlaw_df['Expiration Date'] = pd.to_datetime(inlaw_df['Expiration Date'])\n",
    "johnson_df['Value'] = pd.to_numeric(johnson_df['Value'].str.replace(\",\", \"\"))\n",
    "johnson_df['Average Price'] = pd.to_numeric(johnson_df['Average Price'].str.replace(\",\", \"\"))\n",
    "johnson_df['Commissions'] = pd.to_numeric(johnson_df['Commissions'].str.replace(\"--\", \"\"))\n",
    "johnson_df['Expiration Date'] = pd.to_datetime(johnson_df['Expiration Date'])\n",
    "johnson_ira_df['Value'] = pd.to_numeric(johnson_ira_df['Value'].str.replace(\",\", \"\"))\n",
    "johnson_ira_df['Average Price'] = pd.to_numeric(johnson_ira_df['Average Price'].str.replace(\",\", \"\"))\n",
    "johnson_ira_df['Commissions'] = pd.to_numeric(johnson_ira_df['Commissions'].str.replace(\"--\", \"\"))\n",
    "johnson_ira_df['Expiration Date'] = pd.to_datetime(johnson_ira_df['Expiration Date'])"
   ]
  },
  {
   "cell_type": "code",
   "execution_count": 4,
   "id": "cddafa8d",
   "metadata": {},
   "outputs": [],
   "source": [
    "#Replace the \"T\" with a space to better format for datetime\n",
    "\n",
    "inlaw_df['Date'] = inlaw_df['Date'].str.replace('T','  ')\n",
    "johnson_df['Date'] = johnson_df['Date'].str.replace('T','  ')\n",
    "johnson_ira_df['Date'] = johnson_ira_df['Date'].str.replace('T','  ')"
   ]
  },
  {
   "cell_type": "code",
   "execution_count": 5,
   "id": "5e0e7061",
   "metadata": {},
   "outputs": [],
   "source": [
    "#Convert the Date column into datetime datatype\n",
    "\n",
    "inlaw_df['Date'] = pd.to_datetime(inlaw_df['Date'], utc = True)\n",
    "johnson_df['Date'] = pd.to_datetime(johnson_df['Date'], utc = True)\n",
    "johnson_ira_df['Date'] = pd.to_datetime(johnson_ira_df['Date'], utc = True)"
   ]
  },
  {
   "cell_type": "code",
   "execution_count": 6,
   "id": "b3f90641",
   "metadata": {},
   "outputs": [],
   "source": [
    "#Drop the time from the Date column\n",
    "\n",
    "inlaw_df['Date'] = pd.to_datetime(inlaw_df['Date']).dt.date\n",
    "johnson_df['Date'] = pd.to_datetime(johnson_df['Date']).dt.date\n",
    "johnson_ira_df['Date'] = pd.to_datetime(johnson_ira_df['Date']).dt.date"
   ]
  },
  {
   "cell_type": "code",
   "execution_count": 7,
   "id": "b080a9e6-fd78-47b3-ac9b-a18596d214a3",
   "metadata": {},
   "outputs": [],
   "source": [
    "#Change the \"Date\" column back to datetime format\n",
    "\n",
    "inlaw_df['Date'] = pd.to_datetime(inlaw_df['Date'])\n",
    "johnson_df['Date'] = pd.to_datetime(johnson_df['Date'])\n",
    "johnson_ira_df['Date'] = pd.to_datetime(johnson_ira_df['Date'])"
   ]
  },
  {
   "cell_type": "code",
   "execution_count": 8,
   "id": "0f64c40f",
   "metadata": {},
   "outputs": [],
   "source": [
    "#Set the index of the Dateframe to the Date column\n",
    "\n",
    "inlaw_df = inlaw_df.set_index('Date')\n",
    "johnson_df = johnson_df.set_index('Date')\n",
    "johnson_ira_df = johnson_ira_df.set_index('Date')"
   ]
  },
  {
   "cell_type": "code",
   "execution_count": 9,
   "id": "a6e3762f",
   "metadata": {},
   "outputs": [],
   "source": [
    "#Drop null values from the Dataframe\n",
    "\n",
    "inlaw_df = inlaw_df.dropna(how='all')\n",
    "johnson_df = johnson_df.dropna(how='all')\n",
    "johnson_ira_df = johnson_ira_df.dropna(how='all')"
   ]
  },
  {
   "cell_type": "code",
   "execution_count": 10,
   "id": "cd2f414a",
   "metadata": {},
   "outputs": [],
   "source": [
    "#Converting dataframes to CSV to be able to import into new jupyter notebook.\n",
    "\n",
    "inlaw_df.to_csv(\"inlaw_csv\")\n",
    "johnson_df.to_csv(\"johnson_csv\")\n",
    "johnson_ira_df.to_csv(\"johnson_ira_csv\")"
   ]
  },
  {
   "cell_type": "code",
   "execution_count": null,
   "id": "4ef0aa29",
   "metadata": {},
   "outputs": [],
   "source": []
  },
  {
   "cell_type": "code",
   "execution_count": null,
   "id": "0a080307-6fb4-43bb-a5da-265a4107314c",
   "metadata": {},
   "outputs": [],
   "source": []
  }
 ],
 "metadata": {
  "kernelspec": {
   "display_name": "Python 3",
   "language": "python",
   "name": "python3"
  },
  "language_info": {
   "codemirror_mode": {
    "name": "ipython",
    "version": 3
   },
   "file_extension": ".py",
   "mimetype": "text/x-python",
   "name": "python",
   "nbconvert_exporter": "python",
   "pygments_lexer": "ipython3",
   "version": "3.7.9"
  }
 },
 "nbformat": 4,
 "nbformat_minor": 5
}
