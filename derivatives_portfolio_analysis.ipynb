{
 "cells": [
  {
   "cell_type": "code",
   "execution_count": null,
   "id": "fdaf0641-27e3-4320-bd0f-217df347dc72",
   "metadata": {},
   "outputs": [],
   "source": [
    "#Importing required libraries for data cleanup on CSV files, and to create DataFrames\n",
    "import pandas as pd\n",
    "from pathlib import Path\n",
    "import numpy as np\n",
    "import csv\n",
    "from datetime import datetime\n",
    "import sqlalchemy\n",
    "import os\n",
    "import requests\n",
    "from dotenv import load_dotenv\n",
    "import alpaca_trade_api as tradeapi\n",
    "import hvplot.pandas\n",
    "from hvplot import hvPlot\n",
    "import holoviews as hv"
   ]
  },
  {
   "cell_type": "code",
   "execution_count": null,
   "id": "0a2388e9-8de0-49c9-9390-45bb261d40db",
   "metadata": {},
   "outputs": [],
   "source": [
    "# Load .env environment variables\n",
    "load_dotenv()\n",
    "\n",
    "# Set Alpaca API key and secret\n",
    "alpaca_api_key = os.getenv(\"ALPACA_API_KEY\")\n",
    "alpaca_secret_key = os.getenv(\"ALPACA_SECRET_KEY\")\n",
    "\n",
    "# Create the Alpaca API object\n",
    "alpaca = tradeapi.REST(\n",
    "    alpaca_api_key,\n",
    "    alpaca_secret_key,\n",
    "    api_version=\"v2\")"
   ]
  },
  {
   "cell_type": "code",
   "execution_count": null,
   "id": "73f8ebe1-482a-4d2b-abb6-9838474949a1",
   "metadata": {},
   "outputs": [],
   "source": [
    "#Creating Dataframes from the CSV files\n",
    "inlaw_df = pd.read_csv(Path(\"Updated_CSV/inlaw_csv\"), infer_datetime_format=True, parse_dates=True, index_col='Date')\n",
    "johnson_df = pd.read_csv(Path(\"Updated_CSV/johnson_csv\"), infer_datetime_format=True, parse_dates=True, index_col='Date') \n",
    "johnson_ira_df = pd.read_csv(Path(\"Updated_CSV/johnson_ira_csv\"), infer_datetime_format=True, parse_dates=True, index_col='Date')"
   ]
  },
  {
   "cell_type": "code",
   "execution_count": null,
   "id": "37ecfe5e-7098-44ca-a618-676acf85d447",
   "metadata": {},
   "outputs": [],
   "source": [
    "#Changing Dates to datetime formats\n",
    "inlaw_df['Expiration Date'] = pd.to_datetime(inlaw_df['Expiration Date'])\n",
    "johnson_df['Expiration Date'] = pd.to_datetime(johnson_df['Expiration Date'])\n",
    "johnson_ira_df['Expiration Date'] = pd.to_datetime(johnson_ira_df['Expiration Date'])"
   ]
  },
  {
   "cell_type": "code",
   "execution_count": null,
   "id": "ed65a2b0-d2d3-4fa6-916b-40b8b594676c",
   "metadata": {},
   "outputs": [],
   "source": [
    "#Creating SQL Database w/ all dataframes\n",
    "database_connection_string = 'sqlite:///portfolios.db'\n",
    "engine = sqlalchemy.create_engine(database_connection_string)"
   ]
  },
  {
   "cell_type": "code",
   "execution_count": null,
   "id": "bd9413cc-c899-4fdb-a688-ebffd866468a",
   "metadata": {},
   "outputs": [],
   "source": [
    "#creating SQL database w/ dataframes\n",
    "inlaw_df.to_sql('inlaw', engine, if_exists='replace')\n",
    "johnson_df.to_sql('johnson', engine, if_exists='replace')\n",
    "johnson_ira_df.to_sql('johnsonira', engine, if_exists='replace')"
   ]
  },
  {
   "cell_type": "code",
   "execution_count": null,
   "id": "126cc9f6-62c2-47dd-80f3-3d117491d436",
   "metadata": {},
   "outputs": [],
   "source": [
    "#Narrow down dataframe with SQL Query to pull only data required to calculate returns for pure equity transactions.\n",
    "query = \"\"\"\n",
    "SELECT *\n",
    "FROM inlaw\n",
    "WHERE Type = \"Trade\" AND \"Instrument Type\" == \"Equity\";\n",
    "\"\"\"\n",
    "inlaw_equities_df = pd.read_sql_query(query, con=engine)"
   ]
  },
  {
   "cell_type": "code",
   "execution_count": null,
   "id": "ba2ac6a9-32ba-44fd-ae5c-ba3bec91fefd",
   "metadata": {},
   "outputs": [],
   "source": [
    "#Convert Average Price to absolute value to remove negative values.\n",
    "inlaw_equities_df['Average Price'] = inlaw_equities_df['Average Price'].abs()"
   ]
  },
  {
   "cell_type": "code",
   "execution_count": null,
   "id": "f488e008-11b8-432a-a11d-d8154846864a",
   "metadata": {},
   "outputs": [],
   "source": [
    "#Define function to retrieve total curent position for each Symbol. \n",
    "def get_total_equities_position(df):\n",
    "\n",
    "    #Create variable to get quantity value in each row of the Dataframe\n",
    "    quantity = df[\"Quantity\"]\n",
    "\n",
    "    #Creating conditional statements where if there is a Buy Action, then create a new column called \"Position\" and put in the value of -1\n",
    "    #Else, set the \"Position\" to 1\n",
    "    df.loc[(df['Action'] == \"BUY_TO_OPEN\"), 'Position'] = -1\n",
    "    df.loc[(df['Action'] != \"SELL_TO_CLOSE\"), 'Position'] = 1\n",
    "\n",
    "    #Create a variable for the actual numerical position of the options trade\n",
    "    position = df[\"Position\"]\n",
    "\n",
    "    #Creating a new column in the DataFrame to hold the total position for the row\n",
    "    df[\"Total Position\"] = quantity * position\n",
    "\n",
    "    #Getting the total position by summing all values in the Total Position column\n",
    "    sum_df = df.groupby(\"Symbol\").sum()\n",
    "    \n",
    "    return sum_df"
   ]
  },
  {
   "cell_type": "code",
   "execution_count": null,
   "id": "02f3d20b-aab0-4d4e-8e81-3a85d31ca274",
   "metadata": {},
   "outputs": [],
   "source": [
    "#Define function to get mean value of the columns so we can determine average price paid per share.\n",
    "def get_avg_value_position(df):\n",
    "\n",
    "    #Getting the average price per share by taking mean of all values in the columns\n",
    "    avg_df = df.groupby(\"Symbol\").mean()\n",
    "    \n",
    "    return avg_df"
   ]
  },
  {
   "cell_type": "code",
   "execution_count": null,
   "id": "f58312e0-8ef6-4406-ac13-3a09eed1f160",
   "metadata": {},
   "outputs": [],
   "source": [
    "#Passing in the equities dataframe to get avg value for each symbol\n",
    "avg_price_df = get_avg_value_position(inlaw_equities_df)\n",
    "\n",
    "#Reset index column so we can compare with other dataframes using same index\n",
    "avg_price_df = avg_price_df.reset_index()"
   ]
  },
  {
   "cell_type": "code",
   "execution_count": null,
   "id": "d78a4e90-e0ed-46f8-88e7-ecd539af1a93",
   "metadata": {},
   "outputs": [],
   "source": [
    "#Passing in the equities dataframe to get total position for each symbol\n",
    "equities_positions_df = get_total_equities_position(inlaw_equities_df)\n",
    "\n",
    "#Reset index column so we can compare with other dataframes using same index\n",
    "equities_positions_df = equities_positions_df.reset_index()\n",
    "\n",
    "#Change Symbols to a list of strings so it can be passed into alpaca api call as a parameter\n",
    "symbol_list = equities_positions_df['Symbol'].tolist()\n",
    "symbol_list_of_strings = [''.join(ele) for ele in symbol_list]\n",
    "symbol_list_of_strings"
   ]
  },
  {
   "cell_type": "code",
   "execution_count": null,
   "id": "4af49054-56ef-434a-ae55-ef88f5014706",
   "metadata": {},
   "outputs": [],
   "source": [
    "# Format current date as ISO format\n",
    "start_date = pd.Timestamp(\"2021-05-19\", tz=\"America/New_York\").isoformat()\n",
    "end_date = pd.Timestamp(\"2021-05-19\", tz=\"America/New_York\").isoformat()\n",
    "\n",
    "# Set the tickers parameter using the list of symbols\n",
    "tickers = symbol_list_of_strings\n",
    "\n",
    "# Set timeframe to one day ('1D') for the Alpaca API\n",
    "timeframe = \"1D\"\n",
    "\n",
    "# Get current closing prices for all symbols in the equities dataframe\n",
    "equities_portfolio_df = alpaca.get_barset(\n",
    "    tickers,\n",
    "    timeframe,\n",
    "    start = start_date,\n",
    "    end = end_date\n",
    ").df\n",
    "\n",
    "#Reset index column so we can compare with other dataframes using same index\n",
    "equities_portfolio_df = equities_portfolio_df.reset_index()\n",
    "\n",
    "#Dropping time column so we can create a matching index column\n",
    "equities_portfolio_df = equities_portfolio_df.drop(columns='time')"
   ]
  },
  {
   "cell_type": "code",
   "execution_count": null,
   "id": "59607df3-602c-47dd-9b61-9265f4b781ad",
   "metadata": {},
   "outputs": [],
   "source": [
    "# Create an empty `closing_prices_df` DataFrame using Pandas\n",
    "closing_prices_df = pd.DataFrame()\n",
    "\n",
    "# Populate the `closing_prices_df` DataFrame by accessing the `close` column\n",
    "# from the `equities_portfolio_df` DataFrame for both all Symbols.\n",
    "closing_prices_df[\"ABBV\"] = equities_portfolio_df[\"ABBV\"]['close']\n",
    "closing_prices_df[\"AMD\"] = equities_portfolio_df[\"AMD\"][\"close\"]\n",
    "closing_prices_df[\"ETAC\"] = equities_portfolio_df[\"ETAC\"][\"close\"]\n",
    "closing_prices_df[\"HEC\"] = equities_portfolio_df[\"HEC\"][\"close\"]\n",
    "closing_prices_df[\"PSTH\"] = equities_portfolio_df[\"PSTH\"][\"close\"]\n",
    "closing_prices_df[\"SPY\"] = equities_portfolio_df[\"SPY\"][\"close\"]\n",
    "\n",
    "#Transpose the dataframe so we can group by symbol.\n",
    "closing_prices_df = closing_prices_df.T\n",
    "\n",
    "#Reset index so we can match to other dataframes with same index column. \n",
    "closing_prices_df = closing_prices_df.reset_index()\n",
    "\n",
    "#Change name of column to \"Symbol\" and \"close\"\n",
    "closing_prices_df = closing_prices_df.rename({'index': 'Symbol', 0: 'close'}, errors='raise', axis=1)"
   ]
  },
  {
   "cell_type": "code",
   "execution_count": null,
   "id": "c1ecd54f-8bff-41fc-aa43-13b465788929",
   "metadata": {},
   "outputs": [],
   "source": [
    "#Replace 'Average Price' column in 'equities_positions_df' with 'Average Price' column from 'avg_price_df'\n",
    "equities_positions_df['Average Price'] = avg_price_df['Average Price']\n",
    "\n",
    "#Adding columns to 'equities_positions_df' \n",
    "equities_positions_df['Total Cost Basis'] = equities_positions_df['Total Position'] * equities_positions_df[\"Average Price\"]\n",
    "equities_positions_df['Total Current Value'] = equities_positions_df['Total Position'] * closing_prices_df[\"close\"]\n",
    "equities_positions_df['Gain/Loss'] = equities_positions_df['Total Current Value'] - equities_positions_df[\"Total Cost Basis\"]\n",
    "equities_positions_df['% Gain/Loss'] = equities_positions_df['Gain/Loss'] / equities_positions_df[\"Total Cost Basis\"]\n",
    "equities_positions_df['Gain/Loss per Share'] = equities_positions_df['Gain/Loss'] / equities_positions_df[\"Total Position\"]\n",
    "equities_positions_df['Current Share Price'] = closing_prices_df['close']"
   ]
  },
  {
   "cell_type": "code",
   "execution_count": null,
   "id": "43b60402-ce30-4105-8850-9e994f056c2c",
   "metadata": {},
   "outputs": [],
   "source": [
    "#Changing datetime format for inlaw_df\n",
    "#inlaw_df['Date'] = pd.to_datetime(inlaw_df['Date']).dt.date"
   ]
  },
  {
   "cell_type": "code",
   "execution_count": null,
   "id": "2ebc687b-bdb4-4096-bdeb-7a3a0d638fae",
   "metadata": {},
   "outputs": [],
   "source": [
    "equities_positions_df.hvplot.bar(title=\"Gain/Loss in % for Equities Portfolio\", x=\"Symbol\", y='% Gain/Loss')"
   ]
  },
  {
   "cell_type": "code",
   "execution_count": null,
   "id": "8ea33f06-0764-470c-8b3b-b4a88b757e55",
   "metadata": {},
   "outputs": [],
   "source": [
    "equities_positions_df.hvplot.bar(title=\"Gain/Loss in $ for Equities Portfolio\", x=\"Symbol\", y='Gain/Loss', ylabel=\"Gain/Loss in $\")"
   ]
  },
  {
   "cell_type": "code",
   "execution_count": null,
   "id": "4941baff-918a-4dd3-8de8-ef2ac4d9c5f0",
   "metadata": {},
   "outputs": [],
   "source": [
    "equities_positions_df.plot.pie(title=\"Total Portfolio Value Makeup by Symbol\", y=\"Total Current Value\", labels=[\"ABBV\", \"AMD\", \"ETAC\", \"HEC\", \"PSTH\", \"SPY\"])"
   ]
  },
  {
   "cell_type": "code",
   "execution_count": null,
   "id": "8957b2a6-bf9d-429a-9c6f-b0434c205a44",
   "metadata": {},
   "outputs": [],
   "source": [
    "equities_positions_df.hvplot.bar(title=\"Current Share Price vs. Average Cost Per Share\", y='Current Share Price', x='Symbol', color=\"blue\") * equities_positions_df.hvplot.bar(y='Average Price', x='Symbol', color='red') "
   ]
  },
  {
   "cell_type": "code",
   "execution_count": null,
   "id": "a07223d5-d7f8-4e70-bdc0-872ceb361f4e",
   "metadata": {},
   "outputs": [],
   "source": [
    "def short_put_gross_net_value(df):\n",
    "\n",
    "    # Filter the dataframe by the short actions\n",
    "    df = df.loc[(df[\"Action\"] == \"SELL_TO_OPEN\") | (df[\"Action\"] == \"SELL_TO_CLOSE\")]\n",
    "    df = df.loc[df[\"Call or Put\"] == \"PUT\"]\n",
    "\n",
    "   \n",
    "    #Create variables to hold the gross value, total commission fees, and total fees to help calculate the net value\n",
    "    gross_value = df[\"Value\"].sum()\n",
    "    total_commissions = df[\"Commissions\"].sum()\n",
    "    total_fees = df[\"Fees\"].sum()\n",
    "    net_value = gross_value + total_commissions + total_fees\n",
    "    \n",
    "    return df"
   ]
  },
  {
   "cell_type": "code",
   "execution_count": null,
   "id": "b2edb223-560c-4e00-a008-738c72fc3554",
   "metadata": {},
   "outputs": [],
   "source": [
    "short_put_df = short_put_gross_net_value(inlaw_df)\n",
    "short_put_df = short_put_df.groupby('Underlying Symbol').sum()"
   ]
  },
  {
   "cell_type": "code",
   "execution_count": null,
   "id": "48be76ac-1874-4a12-89c9-42f7587a28e4",
   "metadata": {},
   "outputs": [],
   "source": [
    "short_put_plot = short_put_df.hvplot.bar(x='Underlying Symbol', y=\"Value\", rot=90, title=\"Short Put Gross Values\")\n",
    "short_put_plot"
   ]
  },
  {
   "cell_type": "code",
   "execution_count": null,
   "id": "a27cbd71-9fed-4825-8a82-2676520da5d6",
   "metadata": {},
   "outputs": [],
   "source": [
    "def long_put_gross_net_value(df):\n",
    "\n",
    "    #Filter the dataframe by the long actions\n",
    "    df = df.loc[(df[\"Action\"] == \"BUY_TO_OPEN\") | (df[\"Action\"] == \"BUY_TO_CLOSE\")]\n",
    "    df = df.loc[df[\"Call or Put\"] == \"PUT\"]\n",
    "    \n",
    "    return df"
   ]
  },
  {
   "cell_type": "code",
   "execution_count": null,
   "id": "58993d67-3a40-47c3-9de6-4db1744a1348",
   "metadata": {},
   "outputs": [],
   "source": [
    "long_put_df = long_put_gross_net_value(inlaw_df)\n",
    "long_put_df = long_put_df.groupby('Underlying Symbol').sum() * -1"
   ]
  },
  {
   "cell_type": "code",
   "execution_count": null,
   "id": "d1cb328d-140f-4bf3-a3ee-190fd8e7371a",
   "metadata": {},
   "outputs": [],
   "source": [
    "long_put_plot = long_put_df.hvplot.bar(x='Underlying Symbol', y=\"Value\", rot=90, title=\"Long Put Gross Values\")\n",
    "long_put_plot"
   ]
  },
  {
   "cell_type": "code",
   "execution_count": null,
   "id": "0be47008-887c-4474-9a8b-2277c37c5cdd",
   "metadata": {},
   "outputs": [],
   "source": [
    "def short_call_gross_net_value(df):\n",
    "\n",
    "    #Filter the dataframe by the short actions\n",
    "    df = df.loc[(df[\"Action\"] == \"SELL_TO_OPEN\") | (df[\"Action\"] == \"SELL_TO_CLOSE\")]\n",
    "    df = df.loc[df[\"Call or Put\"] == \"CALL\"]\n",
    "    \n",
    "    return df"
   ]
  },
  {
   "cell_type": "code",
   "execution_count": null,
   "id": "2baaf7f3-cd0d-4133-8228-78b85cab7321",
   "metadata": {},
   "outputs": [],
   "source": [
    "short_call_df = short_call_gross_net_value(inlaw_df)\n",
    "short_call_df = short_call_df.groupby('Underlying Symbol').sum() "
   ]
  },
  {
   "cell_type": "code",
   "execution_count": null,
   "id": "a017a610-517e-44f8-9f8a-7ec74f46796b",
   "metadata": {},
   "outputs": [],
   "source": [
    "short_call_plot = short_call_df.hvplot.bar(x='Underlying Symbol', y=\"Value\", rot=90, title=\"Short Call Gross Values\")\n",
    "short_call_plot"
   ]
  },
  {
   "cell_type": "code",
   "execution_count": null,
   "id": "3ca1568a-4899-4384-8ef8-ae63f6110f4e",
   "metadata": {},
   "outputs": [],
   "source": [
    "def long_call_gross_net_value(df):\n",
    "\n",
    "    #Filter the dataframe by the long actions\n",
    "    df = df.loc[(df[\"Action\"] == \"BUY_TO_OPEN\") | (df[\"Action\"] == \"BUY_TO_CLOSE\")]\n",
    "    df = df.loc[df[\"Call or Put\"] == \"CALL\"]\n",
    "    \n",
    "    return df"
   ]
  },
  {
   "cell_type": "code",
   "execution_count": null,
   "id": "797af8ef-51fd-4460-86f8-e09049ae558d",
   "metadata": {},
   "outputs": [],
   "source": [
    "long_call_df = long_call_gross_net_value(inlaw_df)\n",
    "long_call_df = long_call_df.groupby('Underlying Symbol').sum() * -1"
   ]
  },
  {
   "cell_type": "code",
   "execution_count": null,
   "id": "20e57b34-c53c-4b00-a14e-a040fa8ee8a2",
   "metadata": {},
   "outputs": [],
   "source": [
    "long_call_plot = long_call_df.hvplot.bar(x='Underlying Symbol', y=\"Value\", rot=90, title=\"Long Call Gross Values\")\n",
    "long_call_plot"
   ]
  },
  {
   "cell_type": "code",
   "execution_count": null,
   "id": "4e267445-69b5-4e02-9912-2dfcfadf8941",
   "metadata": {},
   "outputs": [],
   "source": [
    "combined_put_plot = short_put_plot * long_put_plot\n",
    "combined_put_plot.opts(title=\"Short & Long Put Values\")"
   ]
  },
  {
   "cell_type": "code",
   "execution_count": null,
   "id": "b4325ddf-cc87-40e5-91dc-e9cd32734e48",
   "metadata": {},
   "outputs": [],
   "source": [
    "combined_call_plot = short_call_plot * long_call_plot\n",
    "combined_call_plot.opts(title=\"Short & Long Call Values\")"
   ]
  },
  {
   "cell_type": "code",
   "execution_count": null,
   "id": "3d251953-0bbb-47c4-9e5b-98d016f157b6",
   "metadata": {},
   "outputs": [],
   "source": [
    "#Changing datetime format for inlaw_df\n",
    "#inlaw_equities_df['Date'] = pd.to_datetime(inlaw_equities_df['Date']).dt.date"
   ]
  },
  {
   "cell_type": "code",
   "execution_count": null,
   "id": "3a90c513-c33c-4bec-8eea-781ef2353f13",
   "metadata": {},
   "outputs": [],
   "source": []
  },
  {
   "cell_type": "code",
   "execution_count": null,
   "id": "dc2e58f7-aa94-4345-bdd9-9a3a41b2e9d4",
   "metadata": {},
   "outputs": [],
   "source": [
    "# Format current date as ISO format\n",
    "#start_date = pd.Timestamp(\"2020-03-15\", tz=\"America/New_York\").isoformat()\n",
    "#end_date = pd.Timestamp(\"2021-04-23\", tz=\"America/New_York\").isoformat()\n",
    "\n",
    "# Set the tickers parameter using the list of symbols\n",
    "#tickers = symbol_list_of_strings\n",
    "\n",
    "# Set timeframe to one day ('1D') for the Alpaca API\n",
    "#timeframe = \"1D\"\n",
    "\n",
    "# Get current closing prices for all symbols in the equities dataframe\n",
    "#equities_closing_prices_df = alpaca.get_barset(\n",
    "#    tickers,\n",
    " #   timeframe,\n",
    "#    start = start_date,\n",
    "#    end = end_date\n",
    "#).df\n",
    "#equities_closing_prices_df = equities_closing_prices_df.reset_index()\n",
    "#equities_closing_prices_df = (\n",
    "#    equities_closing_prices_df\n",
    "#    .groupby('ABBV', 'AMD', 'ETAC', 'HEC', 'PSTH', 'SPY')\n",
    "#    .sum()\n",
    "#)"
   ]
  },
  {
   "cell_type": "code",
   "execution_count": null,
   "id": "8123662b-039f-4ffa-b327-26d42d45ab1e",
   "metadata": {},
   "outputs": [],
   "source": [
    "#inlaw_equities_df.hvplot(x=\"Date\", y=\"Average Price\", groupby='Symbol', rot=45) * equities_closing_prices_df.hvplot(x='time', y='close')"
   ]
  },
  {
   "cell_type": "code",
   "execution_count": null,
   "id": "1438385b-4650-47ea-a3aa-15da4b6b4fbb",
   "metadata": {},
   "outputs": [],
   "source": [
    "#equities_closing_prices_df.plot(group)"
   ]
  },
  {
   "cell_type": "code",
   "execution_count": null,
   "id": "182b55d6-3d83-432f-b9ec-b5b5d4f7be36",
   "metadata": {},
   "outputs": [],
   "source": []
  },
  {
   "cell_type": "code",
   "execution_count": null,
   "id": "c13feb10-dce6-4dbd-b0cf-0d0f70f75271",
   "metadata": {},
   "outputs": [],
   "source": [
    "#def profit_per_trade(Value, Commissions, Fees):\n",
    "    #return (Value + Commissions + Fees)\n",
    "\n",
    "#profit_per_equity_trade_df = profit_per_trade(inlaw_equities_df['Value'], inlaw_equities_df['Commissions'], inlaw_equities_df['Fees'])"
   ]
  },
  {
   "cell_type": "code",
   "execution_count": null,
   "id": "418f0437-bd2b-4990-b3c2-7900d1b13ff2",
   "metadata": {},
   "outputs": [],
   "source": [
    "#profit_p_trade = profit_per_option_trade_df.cumsum() * -1\n",
    "#profit_per_equity_trade_df"
   ]
  },
  {
   "cell_type": "code",
   "execution_count": null,
   "id": "2dc989d8-103e-4d48-94a4-377e2bc27479",
   "metadata": {},
   "outputs": [],
   "source": [
    "#profit_per_option_trade_df.hvplot(x=\"\")"
   ]
  },
  {
   "cell_type": "code",
   "execution_count": null,
   "id": "ba017cb4-0b11-4a8f-874c-16157c205d6c",
   "metadata": {},
   "outputs": [],
   "source": [
    "query = \"\"\"\n",
    "SELECT *\n",
    "FROM inlaw\n",
    "WHERE Action = \"SELL_TO_OPEN\" \n",
    "OR Action = \"SELL_TO_CLOSE\";\n",
    "\"\"\"\n",
    "SELL_TO_OPEN_OR_CLOSE_df = pd.read_sql_query(query, con=engine)\n"
   ]
  },
  {
   "cell_type": "code",
   "execution_count": null,
   "id": "f6bc9154-868f-450b-9b5a-b747513e74e4",
   "metadata": {},
   "outputs": [],
   "source": [
    "#SELL_TO_OPEN_OR_CLOSE_df.plot(x='Date', y=\"Average Price\")"
   ]
  },
  {
   "cell_type": "code",
   "execution_count": null,
   "id": "b7a2e2d4-a3fd-44bf-8fac-76437e71abb5",
   "metadata": {},
   "outputs": [],
   "source": [
    "query = \"\"\"\n",
    "SELECT *\n",
    "FROM inlaw\n",
    "WHERE Action = \"BUY_TO_CLOSE\" \n",
    "OR Action = \"BUY_TO_OPEN\";\n",
    "\"\"\"\n",
    "BUY_TO_OPEN_OR_CLOSE_df = pd.read_sql_query(query, con=engine)"
   ]
  },
  {
   "cell_type": "code",
   "execution_count": null,
   "id": "505bb7d5-c15c-4cb3-ac71-201ebfeab576",
   "metadata": {},
   "outputs": [],
   "source": [
    "query = \"\"\"\n",
    "SELECT *\n",
    "FROM inlaw\n",
    "WHERE \"Call or Put\" = \"CALL\";\n",
    "\"\"\"\n",
    "CALL_df = pd.read_sql_query(query, con=engine)"
   ]
  },
  {
   "cell_type": "code",
   "execution_count": null,
   "id": "9983251b-baa1-46f2-8167-ae2ac271a77f",
   "metadata": {},
   "outputs": [],
   "source": [
    "query = \"\"\"\n",
    "SELECT *\n",
    "FROM inlaw\n",
    "WHERE \"Call or Put\" = \"PUT\";\n",
    "\"\"\"\n",
    "PUT_df = pd.read_sql_query(query, con=engine)"
   ]
  },
  {
   "cell_type": "code",
   "execution_count": null,
   "id": "98e41521-ed27-4041-954a-9ad1b8ea97af",
   "metadata": {},
   "outputs": [],
   "source": [
    "query = \"\"\"\n",
    "SELECT *\n",
    "FROM inlaw\n",
    "WHERE \"Instrument Type\" = \"Equity Option\";\n",
    "\"\"\"\n",
    "equity_option_df = pd.read_sql_query(query, con=engine)"
   ]
  },
  {
   "cell_type": "code",
   "execution_count": null,
   "id": "1ebfb8c6-2105-4569-9506-5c22e9533f8c",
   "metadata": {},
   "outputs": [],
   "source": [
    "query = \"\"\"\n",
    "SELECT *\n",
    "FROM inlaw\n",
    "WHERE \"Instrument Type\" = \"Future Option\";\n",
    "\"\"\"\n",
    "future_option_df = pd.read_sql_query(query, con=engine)"
   ]
  },
  {
   "cell_type": "code",
   "execution_count": null,
   "id": "c72d6d21-2d26-43e0-8fd9-75c2e795c40b",
   "metadata": {},
   "outputs": [],
   "source": [
    "query = \"\"\"\n",
    "SELECT *\n",
    "FROM inlaw\n",
    "WHERE \"Instrument Type\" = \"Future Option\" \n",
    "OR \"Instrument Type\" = \"Equity Option\";\n",
    "\"\"\"\n",
    "option_df = pd.read_sql_query(query, con=engine)\n",
    "option_df.to_sql('option', engine, if_exists='replace')"
   ]
  },
  {
   "cell_type": "code",
   "execution_count": null,
   "id": "e7549e67-1726-4eb5-a2cd-81b82476fd93",
   "metadata": {},
   "outputs": [],
   "source": [
    "query = \"\"\"\n",
    "SELECT *\n",
    "FROM option\n",
    "WHERE Action = \"SELL_TO_OPEN\" \n",
    "OR Action = \"SELL_TO_CLOSE\";\n",
    "\"\"\"\n",
    "sell_option_df = pd.read_sql_query(query, con=engine)"
   ]
  },
  {
   "cell_type": "code",
   "execution_count": null,
   "id": "f30411b1-49f5-4ff6-a1eb-bfcd07f8cbcf",
   "metadata": {},
   "outputs": [],
   "source": [
    "query = \"\"\"\n",
    "SELECT *\n",
    "FROM inlaw\n",
    "WHERE Action = \"BUY_TO_OPEN\" \n",
    "OR Action = \"BUY_TO_CLOSE\";\n",
    "\"\"\"\n",
    "buy_option_df = pd.read_sql_query(query, con=engine)"
   ]
  },
  {
   "cell_type": "code",
   "execution_count": null,
   "id": "de83c723-4983-4008-981e-410837424396",
   "metadata": {},
   "outputs": [],
   "source": [
    "query = \"\"\"\n",
    "SELECT *\n",
    "FROM inlaw\n",
    "WHERE \"Instrument Type\" = \"Equity\";\n",
    "\"\"\"\n",
    "equity_df = pd.read_sql_query(query, con=engine)"
   ]
  },
  {
   "cell_type": "code",
   "execution_count": null,
   "id": "369c4b62-dc8e-4b08-9cc7-a064ff230a74",
   "metadata": {},
   "outputs": [],
   "source": [
    "profit_per_equity_trade_df = profit_per_trade(equity_df['Value'], equity_df['Commissions'], equity_df['Fees'])\n",
    "profit_per_equity_trade_df.cumsum()"
   ]
  },
  {
   "cell_type": "code",
   "execution_count": null,
   "id": "ecb1c04c-0a13-4e99-b322-6271fe29fca2",
   "metadata": {},
   "outputs": [],
   "source": [
    "query = \"\"\"\n",
    "SELECT \"Order #\",\n",
    "    Sum(Value) AS Value\n",
    "FROM inlaw\n",
    "GROUP BY \"Order #\"\n",
    "\"\"\"\n",
    "order_sorted = pd.read_sql_query(query, con=engine)"
   ]
  },
  {
   "cell_type": "code",
   "execution_count": null,
   "id": "b0051d9e-116f-4362-aefc-0990fe8f9df7",
   "metadata": {},
   "outputs": [],
   "source": [
    "order_sorted['Value'].describe()"
   ]
  },
  {
   "cell_type": "code",
   "execution_count": null,
   "id": "2c8e09de-4132-4edd-aec0-54f81c1e76c2",
   "metadata": {},
   "outputs": [],
   "source": [
    "order_sorted['Value'].cumsum()"
   ]
  },
  {
   "cell_type": "code",
   "execution_count": null,
   "id": "2537f8f3-9733-420c-8294-43f9df83400e",
   "metadata": {},
   "outputs": [],
   "source": [
    "order_sorted['Value'].sum()"
   ]
  },
  {
   "cell_type": "code",
   "execution_count": null,
   "id": "4a2add97-1333-4e6b-b4e3-aa17d43a81df",
   "metadata": {},
   "outputs": [],
   "source": [
    "order_sorted['Value'].cumsum().plot()"
   ]
  },
  {
   "cell_type": "code",
   "execution_count": null,
   "id": "2a7fea3d-a609-4389-af4d-c2ba4f636780",
   "metadata": {},
   "outputs": [],
   "source": [
    "query = \"\"\"\n",
    "SELECT \"Underlying Symbol\",\n",
    "    Sum(Value) AS Value\n",
    "FROM inlaw\n",
    "GROUP BY \"Underlying Symbol\"\n",
    "\"\"\"\n",
    "ticker_sorted = pd.read_sql_query(query, con=engine)"
   ]
  },
  {
   "cell_type": "code",
   "execution_count": null,
   "id": "d21493e8-a60a-4beb-b478-c87dca1da267",
   "metadata": {},
   "outputs": [],
   "source": [
    "query = \"\"\"\n",
    "SELECT *\n",
    "FROM open_df\n",
    "WHERE \"Expiration Date\" = \"Expiration Date\" \n",
    "AND \"Strike Price\" = \"Strike Price\"\n",
    "AND \"Call or Put\" = \"Call or Put\"\n",
    "AND \"Order #\" = \"Order #\"; add SS Open to column Strategy\n",
    "\"\"\"\n",
    "SELL_TO_OPEN_OR_CLOSE_df = pd.read_sql_query(query, con=engine)"
   ]
  },
  {
   "cell_type": "code",
   "execution_count": null,
   "id": "c1dfb884-1378-4a32-8ce6-c08c990d8bac",
   "metadata": {},
   "outputs": [],
   "source": [
    "query = \"\"\"\n",
    "SELECT *\n",
    "FROM close_df\n",
    "WHERE \"Expiration Date\" = \"Expiration Date\" \n",
    "AND \"Strike Price\" = \"Strike Price\"\n",
    "AND \"Call or Put\" = \"Call or Put\"; add SS Close\n",
    "\"\"\"\n",
    "SELL_TO_OPEN_OR_CLOSE_df = pd.read_sql_query(query, con=engine)"
   ]
  },
  {
   "cell_type": "code",
   "execution_count": null,
   "id": "0cdde976-f4c2-4b7d-b996-1915c40a6031",
   "metadata": {},
   "outputs": [],
   "source": []
  },
  {
   "cell_type": "code",
   "execution_count": null,
   "id": "424c2cd0-3119-45c2-9c73-0be4e65667ac",
   "metadata": {},
   "outputs": [],
   "source": []
  },
  {
   "cell_type": "code",
   "execution_count": null,
   "id": "084f474a-6d5e-4742-812e-4bc477c24439",
   "metadata": {},
   "outputs": [],
   "source": []
  }
 ],
 "metadata": {
  "kernelspec": {
   "display_name": "Python 3",
   "language": "python",
   "name": "python3"
  },
  "language_info": {
   "codemirror_mode": {
    "name": "ipython",
    "version": 3
   },
   "file_extension": ".py",
   "mimetype": "text/x-python",
   "name": "python",
   "nbconvert_exporter": "python",
   "pygments_lexer": "ipython3",
   "version": "3.7.9"
  }
 },
 "nbformat": 4,
 "nbformat_minor": 5
}
