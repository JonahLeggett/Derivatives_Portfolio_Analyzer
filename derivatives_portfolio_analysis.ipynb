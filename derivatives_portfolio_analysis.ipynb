{
 "cells": [
  {
   "cell_type": "code",
   "execution_count": 1,
   "id": "fdaf0641-27e3-4320-bd0f-217df347dc72",
   "metadata": {},
   "outputs": [],
   "source": [
    "#Importing required libraries for data cleanup on CSV files, and to create DataFrames\n",
    "\n",
    "import pandas as pd\n",
    "from pathlib import Path\n",
    "import numpy as np\n",
    "import csv\n",
    "from datetime import datetime\n",
    "import sqlalchemy\n",
    "#pd.set_option('display.max_rows', 1000)"
   ]
  },
  {
   "cell_type": "code",
   "execution_count": 2,
   "id": "73f8ebe1-482a-4d2b-abb6-9838474949a1",
   "metadata": {},
   "outputs": [],
   "source": [
    "#Creating Dataframes from the CSV files\n",
    "\n",
    "inlaw_df = pd.read_csv(Path(\"Updated_CSV/inlaw_csv\"), infer_datetime_format=True, parse_dates=True, index_col='Date')\n",
    "johnson_df = pd.read_csv(Path(\"Updated_CSV/johnson_csv\"), infer_datetime_format=True, parse_dates=True, index_col='Date') \n",
    "johnson_ira_df = pd.read_csv(Path(\"Updated_CSV/johnson_ira_csv\"), infer_datetime_format=True, parse_dates=True, index_col='Date')"
   ]
  },
  {
   "cell_type": "code",
   "execution_count": 3,
   "id": "37ecfe5e-7098-44ca-a618-676acf85d447",
   "metadata": {},
   "outputs": [],
   "source": [
    "#Changing Dates to datetime formats\n",
    "\n",
    "inlaw_df['Expiration Date'] = pd.to_datetime(inlaw_df['Expiration Date'])\n",
    "johnson_df['Expiration Date'] = pd.to_datetime(johnson_df['Expiration Date'])\n",
    "johnson_ira_df['Expiration Date'] = pd.to_datetime(johnson_ira_df['Expiration Date'])"
   ]
  },
  {
   "cell_type": "code",
   "execution_count": 4,
   "id": "ed65a2b0-d2d3-4fa6-916b-40b8b594676c",
   "metadata": {},
   "outputs": [],
   "source": [
    "#Creating SQL Database w/ all dataframes\n",
    "\n",
    "database_connection_string = 'sqlite:///portfolios.db'\n",
    "engine = sqlalchemy.create_engine(database_connection_string)"
   ]
  },
  {
   "cell_type": "code",
   "execution_count": 5,
   "id": "bd9413cc-c899-4fdb-a688-ebffd866468a",
   "metadata": {},
   "outputs": [],
   "source": [
    "#creating SQL database w/ dataframes\n",
    "\n",
    "inlaw_df.to_sql('inlaw', engine, if_exists='replace')\n",
    "johnson_df.to_sql('johnson', engine, if_exists='replace')\n",
    "johnson_ira_df.to_sql('johnsonira', engine, if_exists='replace')"
   ]
  },
  {
   "cell_type": "code",
   "execution_count": 6,
   "id": "126cc9f6-62c2-47dd-80f3-3d117491d436",
   "metadata": {},
   "outputs": [],
   "source": [
    "query = \"\"\"\n",
    "SELECT Value, Quantity, \"Average Price\", Commissions, Fees, \"Strike Price\"\n",
    "FROM inlaw\n",
    "WHERE Type = \"Trade\" AND \"Instrument Type\" != \"Equity\";\n",
    "\"\"\"\n",
    "inlaw_returns_df = pd.read_sql_query(query, con=engine)"
   ]
  },
  {
   "cell_type": "code",
   "execution_count": 7,
   "id": "c13feb10-dce6-4dbd-b0cf-0d0f70f75271",
   "metadata": {},
   "outputs": [],
   "source": [
    "def profit_per_trade(Value, Commissions, Fees):\n",
    "    return (Value + Commissions + Fees)\n",
    "\n",
    "profit_per_option_trade_df = profit_per_trade(inlaw_returns_df['Value'], inlaw_returns_df['Commissions'], inlaw_returns_df['Fees'])"
   ]
  },
  {
   "cell_type": "code",
   "execution_count": 8,
   "id": "418f0437-bd2b-4990-b3c2-7900d1b13ff2",
   "metadata": {},
   "outputs": [
    {
     "data": {
      "text/plain": [
       "0        47.858\n",
       "1       556.988\n",
       "2       106.118\n",
       "3      -806.152\n",
       "4       113.564\n",
       "         ...   \n",
       "345    5942.826\n",
       "346    6139.674\n",
       "347    6330.522\n",
       "348    6902.152\n",
       "349    7773.782\n",
       "Length: 350, dtype: float64"
      ]
     },
     "execution_count": 8,
     "metadata": {},
     "output_type": "execute_result"
    }
   ],
   "source": [
    "profit_per_option_trade_df.cumsum()"
   ]
  },
  {
   "cell_type": "code",
   "execution_count": 9,
   "id": "2dc989d8-103e-4d48-94a4-377e2bc27479",
   "metadata": {},
   "outputs": [
    {
     "data": {
      "text/plain": [
       "<AxesSubplot:>"
      ]
     },
     "execution_count": 9,
     "metadata": {},
     "output_type": "execute_result"
    },
    {
     "data": {
      "image/png": "[encoded data removed]",
      "text/plain": [
       "<Figure size 432x288 with 1 Axes>"
      ]
     },
     "metadata": {
      "needs_background": "light"
     },
     "output_type": "display_data"
    }
   ],
   "source": [
    "profit_per_option_trade_df.cumsum().plot()"
   ]
  },
  {
   "cell_type": "code",
   "execution_count": 10,
   "id": "ba017cb4-0b11-4a8f-874c-16157c205d6c",
   "metadata": {},
   "outputs": [],
   "source": [
    "query = \"\"\"\n",
    "SELECT *\n",
    "FROM inlaw\n",
    "WHERE Action = \"SELL_TO_OPEN\" \n",
    "OR Action = \"SELL_TO_CLOSE\";\n",
    "\"\"\"\n",
    "SELL_TO_OPEN_OR_CLOSE_df = pd.read_sql_query(query, con=engine)"
   ]
  },
  {
   "cell_type": "code",
   "execution_count": 11,
   "id": "b7a2e2d4-a3fd-44bf-8fac-76437e71abb5",
   "metadata": {},
   "outputs": [],
   "source": [
    "query = \"\"\"\n",
    "SELECT *\n",
    "FROM inlaw\n",
    "WHERE Action = \"BUY_TO_CLOSE\" \n",
    "OR Action = \"BUY_TO_OPEN\";\n",
    "\"\"\"\n",
    "BUY_TO_OPEN_OR_CLOSE_df = pd.read_sql_query(query, con=engine)"
   ]
  },
  {
   "cell_type": "code",
   "execution_count": 12,
   "id": "505bb7d5-c15c-4cb3-ac71-201ebfeab576",
   "metadata": {},
   "outputs": [],
   "source": [
    "query = \"\"\"\n",
    "SELECT *\n",
    "FROM inlaw\n",
    "WHERE \"Call or Put\" = \"CALL\";\n",
    "\"\"\"\n",
    "CALL_df = pd.read_sql_query(query, con=engine)"
   ]
  },
  {
   "cell_type": "code",
   "execution_count": 13,
   "id": "9983251b-baa1-46f2-8167-ae2ac271a77f",
   "metadata": {},
   "outputs": [],
   "source": [
    "query = \"\"\"\n",
    "SELECT *\n",
    "FROM inlaw\n",
    "WHERE \"Call or Put\" = \"PUT\";\n",
    "\"\"\"\n",
    "PUT_df = pd.read_sql_query(query, con=engine)"
   ]
  },
  {
   "cell_type": "code",
   "execution_count": 14,
   "id": "98e41521-ed27-4041-954a-9ad1b8ea97af",
   "metadata": {},
   "outputs": [],
   "source": [
    "query = \"\"\"\n",
    "SELECT *\n",
    "FROM inlaw\n",
    "WHERE \"Instrument Type\" = \"Equity Option\";\n",
    "\"\"\"\n",
    "equity_option_df = pd.read_sql_query(query, con=engine)"
   ]
  },
  {
   "cell_type": "code",
   "execution_count": 15,
   "id": "1ebfb8c6-2105-4569-9506-5c22e9533f8c",
   "metadata": {},
   "outputs": [],
   "source": [
    "query = \"\"\"\n",
    "SELECT *\n",
    "FROM inlaw\n",
    "WHERE \"Instrument Type\" = \"Future Option\";\n",
    "\"\"\"\n",
    "future_option_df = pd.read_sql_query(query, con=engine)"
   ]
  },
  {
   "cell_type": "code",
   "execution_count": 16,
   "id": "c72d6d21-2d26-43e0-8fd9-75c2e795c40b",
   "metadata": {},
   "outputs": [],
   "source": [
    "query = \"\"\"\n",
    "SELECT *\n",
    "FROM inlaw\n",
    "WHERE \"Instrument Type\" = \"Future Option\" \n",
    "OR \"Instrument Type\" = \"Equity Option\";\n",
    "\"\"\"\n",
    "option_df = pd.read_sql_query(query, con=engine)\n",
    "option_df.to_sql('option', engine, if_exists='replace')"
   ]
  },
  {
   "cell_type": "code",
   "execution_count": 17,
   "id": "e7549e67-1726-4eb5-a2cd-81b82476fd93",
   "metadata": {},
   "outputs": [],
   "source": [
    "query = \"\"\"\n",
    "SELECT *\n",
    "FROM option\n",
    "WHERE Action = \"SELL_TO_OPEN\" \n",
    "OR Action = \"SELL_TO_CLOSE\";\n",
    "\"\"\"\n",
    "sell_option_df = pd.read_sql_query(query, con=engine)"
   ]
  },
  {
   "cell_type": "code",
   "execution_count": 18,
   "id": "f30411b1-49f5-4ff6-a1eb-bfcd07f8cbcf",
   "metadata": {},
   "outputs": [],
   "source": [
    "query = \"\"\"\n",
    "SELECT *\n",
    "FROM inlaw\n",
    "WHERE Action = \"BUY_TO_OPEN\" \n",
    "OR Action = \"BUY_TO_CLOSE\";\n",
    "\"\"\"\n",
    "buy_option_df = pd.read_sql_query(query, con=engine)"
   ]
  },
  {
   "cell_type": "code",
   "execution_count": 19,
   "id": "de83c723-4983-4008-981e-410837424396",
   "metadata": {},
   "outputs": [],
   "source": [
    "query = \"\"\"\n",
    "SELECT *\n",
    "FROM inlaw\n",
    "WHERE \"Instrument Type\" = \"Equity\";\n",
    "\"\"\"\n",
    "equity_df = pd.read_sql_query(query, con=engine)"
   ]
  },
  {
   "cell_type": "code",
   "execution_count": 20,
   "id": "369c4b62-dc8e-4b08-9cc7-a064ff230a74",
   "metadata": {},
   "outputs": [
    {
     "data": {
      "text/plain": [
       "0      41717.688\n",
       "1      83236.376\n",
       "2     124754.064\n",
       "3     166257.752\n",
       "4     124932.672\n",
       "5      84244.592\n",
       "6      43554.512\n",
       "7       2923.432\n",
       "8     -37661.648\n",
       "9     -78243.728\n",
       "10           NaN\n",
       "11           NaN\n",
       "12           NaN\n",
       "13   -117193.808\n",
       "14   -125033.888\n",
       "15   -131568.355\n",
       "16   -131578.286\n",
       "17   -132977.819\n",
       "18   -133970.399\n",
       "19   -134090.769\n",
       "20   -135093.849\n",
       "21   -136096.929\n",
       "22   -137100.009\n",
       "23   -146127.729\n",
       "24   -147010.440\n",
       "25   -148013.520\n",
       "26   -150019.680\n",
       "27   -151022.760\n",
       "28   -152025.840\n",
       "29   -153028.920\n",
       "30   -153931.692\n",
       "31   -154032.000\n",
       "32   -154516.215\n",
       "33   -156722.081\n",
       "34   -167150.161\n",
       "35   -169918.701\n",
       "dtype: float64"
      ]
     },
     "execution_count": 20,
     "metadata": {},
     "output_type": "execute_result"
    }
   ],
   "source": [
    "profit_per_equity_trade_df = profit_per_trade(equity_df['Value'], equity_df['Commissions'], equity_df['Fees'])\n",
    "profit_per_equity_trade_df.cumsum()"
   ]
  },
  {
   "cell_type": "code",
   "execution_count": 21,
   "id": "ecb1c04c-0a13-4e99-b322-6271fe29fca2",
   "metadata": {},
   "outputs": [],
   "source": [
    "query = \"\"\"\n",
    "SELECT \"Order #\",\n",
    "    Sum(Value) AS Value\n",
    "FROM inlaw\n",
    "GROUP BY \"Order #\"\n",
    "\"\"\"\n",
    "order_sorted = pd.read_sql_query(query, con=engine)"
   ]
  },
  {
   "cell_type": "code",
   "execution_count": 22,
   "id": "b0051d9e-116f-4362-aefc-0990fe8f9df7",
   "metadata": {},
   "outputs": [
    {
     "data": {
      "text/plain": [
       "count       277.000000\n",
       "mean       1068.136823\n",
       "std       28720.315307\n",
       "min      -41264.000000\n",
       "25%        -187.500000\n",
       "50%          74.000000\n",
       "75%         299.000000\n",
       "max      457501.650000\n",
       "Name: Value, dtype: float64"
      ]
     },
     "execution_count": 22,
     "metadata": {},
     "output_type": "execute_result"
    }
   ],
   "source": [
    "order_sorted['Value'].describe()"
   ]
  },
  {
   "cell_type": "code",
   "execution_count": 23,
   "id": "2c8e09de-4132-4edd-aec0-54f81c1e76c2",
   "metadata": {},
   "outputs": [
    {
     "data": {
      "text/plain": [
       "0      457501.65\n",
       "1      458376.65\n",
       "2      458951.65\n",
       "3      459341.65\n",
       "4      459453.65\n",
       "         ...    \n",
       "272    295742.40\n",
       "273    295762.40\n",
       "274    295312.40\n",
       "275    295824.90\n",
       "276    295873.90\n",
       "Name: Value, Length: 277, dtype: float64"
      ]
     },
     "execution_count": 23,
     "metadata": {},
     "output_type": "execute_result"
    }
   ],
   "source": [
    "order_sorted['Value'].cumsum()"
   ]
  },
  {
   "cell_type": "code",
   "execution_count": 24,
   "id": "2537f8f3-9733-420c-8294-43f9df83400e",
   "metadata": {},
   "outputs": [
    {
     "data": {
      "text/plain": [
       "295873.9"
      ]
     },
     "execution_count": 24,
     "metadata": {},
     "output_type": "execute_result"
    }
   ],
   "source": [
    "order_sorted['Value'].sum()"
   ]
  },
  {
   "cell_type": "code",
   "execution_count": 25,
   "id": "4a2add97-1333-4e6b-b4e3-aa17d43a81df",
   "metadata": {},
   "outputs": [
    {
     "data": {
      "text/plain": [
       "<AxesSubplot:>"
      ]
     },
     "execution_count": 25,
     "metadata": {},
     "output_type": "execute_result"
    },
    {
     "data": {
      "image/png": "[encoded data removed]",
      "text/plain": [
       "<Figure size 432x288 with 1 Axes>"
      ]
     },
     "metadata": {
      "needs_background": "light"
     },
     "output_type": "display_data"
    }
   ],
   "source": [
    "order_sorted['Value'].cumsum().plot()"
   ]
  },
  {
   "cell_type": "code",
   "execution_count": 26,
   "id": "2a7fea3d-a609-4389-af4d-c2ba4f636780",
   "metadata": {},
   "outputs": [],
   "source": [
    "query = \"\"\"\n",
    "SELECT \"Underlying Symbol\",\n",
    "    Sum(Value) AS Value\n",
    "FROM inlaw\n",
    "GROUP BY \"Underlying Symbol\"\n",
    "\"\"\"\n",
    "ticker_sorted = pd.read_sql_query(query, con=engine)"
   ]
  },
  {
   "cell_type": "code",
   "execution_count": null,
   "id": "be207ef2-a1a3-4138-87af-0bb1e99d8497",
   "metadata": {},
   "outputs": [],
   "source": []
  },
  {
   "cell_type": "code",
   "execution_count": null,
   "id": "8b2fcebf-5e85-4e93-9308-c88835924e1c",
   "metadata": {},
   "outputs": [],
   "source": []
  },
  {
   "cell_type": "code",
   "execution_count": null,
   "id": "3825a416-b7fa-4875-a19d-f9f62617e71f",
   "metadata": {},
   "outputs": [],
   "source": []
  },
  {
   "cell_type": "code",
   "execution_count": null,
   "id": "d21493e8-a60a-4beb-b478-c87dca1da267",
   "metadata": {},
   "outputs": [],
   "source": []
  }
 ],
 "metadata": {
  "kernelspec": {
   "display_name": "Python 3",
   "language": "python",
   "name": "python3"
  },
  "language_info": {
   "codemirror_mode": {
    "name": "ipython",
    "version": 3
   },
   "file_extension": ".py",
   "mimetype": "text/x-python",
   "name": "python",
   "nbconvert_exporter": "python",
   "pygments_lexer": "ipython3",
   "version": "3.7.9"
  }
 },
 "nbformat": 4,
 "nbformat_minor": 5
}
