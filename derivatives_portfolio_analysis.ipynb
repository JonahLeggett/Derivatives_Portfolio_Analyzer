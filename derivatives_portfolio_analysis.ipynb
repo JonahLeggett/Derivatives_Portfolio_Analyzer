{
 "cells": [
  {
   "cell_type": "code",
   "execution_count": 1,
   "id": "fdaf0641-27e3-4320-bd0f-217df347dc72",
   "metadata": {},
   "outputs": [],
   "source": [
    "#Importing required libraries for data cleanup on CSV files, and to create DataFrames\n",
    "\n",
    "import pandas as pd\n",
    "from pathlib import Path\n",
    "import numpy as np\n",
    "import csv\n",
    "from datetime import datetime"
   ]
  },
  {
   "cell_type": "code",
   "execution_count": 2,
   "id": "73f8ebe1-482a-4d2b-abb6-9838474949a1",
   "metadata": {},
   "outputs": [],
   "source": [
    "#Creating Dataframes from the CSV files\n",
    "inlaw_df = pd.read_csv(Path(\"Updated_CSV/inlaw_csv\"), infer_datetime_format=True, parse_dates=True, index_col='Date')\n",
    "johnson_df = pd.read_csv(Path(\"Updated_CSV/johnson_csv\"), infer_datetime_format=True, parse_dates=True, index_col='Date') \n",
    "johnson_ira_df = pd.read_csv(Path(\"Updated_CSV/johnson_ira_csv\"), infer_datetime_format=True, parse_dates=True, index_col='Date')\n",
    "inlaw_money_movement_df = pd.read_csv(Path(\"Updated_CSV/inlaw_money_movement_csv\"), infer_datetime_format=True, parse_dates=True, )\n",
    "johnson_money_movement_df = pd.read_csv(Path(\"Updated_CSV/johnson_money_movement_csv\"), infer_datetime_format=True, parse_dates=True)\n",
    "johnson_ira_money_movement_df = pd.read_csv(Path(\"Updated_CSV/johnson_ira_money_movement_csv\"), infer_datetime_format=True, parse_dates=True)"
   ]
  },
  {
   "cell_type": "code",
   "execution_count": 3,
   "id": "37ecfe5e-7098-44ca-a618-676acf85d447",
   "metadata": {},
   "outputs": [],
   "source": [
    "#Changing Dates to datetime formats\n",
    "inlaw_df['Expiration Date'] = pd.to_datetime(inlaw_df['Expiration Date'])\n",
    "johnson_df['Expiration Date'] = pd.to_datetime(johnson_df['Expiration Date'])\n",
    "johnson_ira_df['Expiration Date'] = pd.to_datetime(johnson_ira_df['Expiration Date'])\n",
    "inlaw_money_movement_df['Date'] = pd.to_datetime(inlaw_money_movement_df['Date'])\n",
    "johnson_money_movement_df['Date'] = pd.to_datetime(johnson_money_movement_df['Date'])\n",
    "johnson_ira_money_movement_df['Date'] = pd.to_datetime(johnson_ira_money_movement_df['Date'])"
   ]
  },
  {
   "cell_type": "code",
   "execution_count": 4,
   "id": "ec4173eb-4153-4413-bbe8-a82b65f6abe2",
   "metadata": {},
   "outputs": [],
   "source": [
    "#Finding total new deposits for all 3 money movement accounts\n",
    "inlaw_net_deposits = inlaw_money_movement_df['Value'].sum()\n",
    "johnson_net_deposits = round(johnson_money_movement_df['Value'].sum(),2)\n",
    "johnson_ira_net_deposits = johnson_ira_money_movement_df['Value'].sum()"
   ]
  },
  {
   "cell_type": "code",
   "execution_count": 5,
   "id": "b4669ed2-5760-40be-896a-d86e7747b228",
   "metadata": {},
   "outputs": [],
   "source": [
    "#Calculating start, end, and age of all 3 accounts\n",
    "end_date_inlaw=inlaw_money_movement_df['Date'][0]\n",
    "end_date_johnson=johnson_money_movement_df['Date'][0]\n",
    "end_date_johnson_ira=johnson_ira_money_movement_df['Date'][0]\n",
    "start_date_inlaw=inlaw_money_movement_df['Date'].iloc[-1]\n",
    "start_date_johnson=johnson_money_movement_df['Date'].iloc[-1]\n",
    "start_date_johnson_ira=johnson_ira_money_movement_df['Date'].iloc[-1]\n",
    "age_of_account_inlaw = (end_date_inlaw - start_date_inlaw).days\n",
    "age_of_account_johnson = (end_date_johnson - start_date_johnson).days\n",
    "age_of_account_johnson_ira = (end_date_johnson_ira - start_date_johnson_ira).days"
   ]
  },
  {
   "cell_type": "code",
   "execution_count": 6,
   "id": "23067d1c-6764-41da-aed5-3044d9ee9335",
   "metadata": {},
   "outputs": [],
   "source": [
    "#Calculating monthly net deposit rates\n",
    "monthly_inlaw_net_deposits = round(inlaw_net_deposits/age_of_account_inlaw, 2)\n",
    "monthly_johnson_net_deposits = round(johnson_net_deposits/age_of_account_johnson, 2)\n",
    "monthly_johnson_ira_net_deposits = round(johnson_ira_net_deposits/age_of_account_johnson_ira, 2)"
   ]
  },
  {
   "cell_type": "code",
   "execution_count": null,
   "id": "126cc9f6-62c2-47dd-80f3-3d117491d436",
   "metadata": {},
   "outputs": [],
   "source": []
  }
 ],
 "metadata": {
  "kernelspec": {
   "display_name": "Python 3",
   "language": "python",
   "name": "python3"
  },
  "language_info": {
   "codemirror_mode": {
    "name": "ipython",
    "version": 3
   },
   "file_extension": ".py",
   "mimetype": "text/x-python",
   "name": "python",
   "nbconvert_exporter": "python",
   "pygments_lexer": "ipython3",
   "version": "3.7.9"
  }
 },
 "nbformat": 4,
 "nbformat_minor": 5
}
